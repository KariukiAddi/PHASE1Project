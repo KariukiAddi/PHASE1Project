{
 "cells": [
  {
   "cell_type": "code",
   "execution_count": 2,
   "metadata": {},
   "outputs": [
    {
     "name": "stdout",
     "output_type": "stream",
     "text": [
      "Hello World\n"
     ]
    }
   ],
   "source": [
    "print(\"Hello World\")"
   ]
  },
  {
   "cell_type": "code",
   "execution_count": 3,
   "metadata": {},
   "outputs": [],
   "source": [
    "import pandas as pd\n",
    "# import csv"
   ]
  },
  {
   "cell_type": "code",
   "execution_count": 7,
   "metadata": {},
   "outputs": [
    {
     "name": "stdout",
     "output_type": "stream",
     "text": [
      "                                            title      studio  domestic_gross   \n",
      "0                                     Toy Story 3          BV     415000000.0  \\\n",
      "1                      Alice in Wonderland (2010)          BV     334200000.0   \n",
      "2     Harry Potter and the Deathly Hallows Part 1          WB     296000000.0   \n",
      "3                                       Inception          WB     292600000.0   \n",
      "4                             Shrek Forever After        P/DW     238700000.0   \n",
      "...                                           ...         ...             ...   \n",
      "3382                                    The Quake       Magn.          6200.0   \n",
      "3383                  Edward II (2018 re-release)          FM          4800.0   \n",
      "3384                                     El Pacto        Sony          2500.0   \n",
      "3385                                     The Swan  Synergetic          2400.0   \n",
      "3386                            An Actor Prepares       Grav.          1700.0   \n",
      "\n",
      "     foreign_gross  year  \n",
      "0        652000000  2010  \n",
      "1        691300000  2010  \n",
      "2        664300000  2010  \n",
      "3        535700000  2010  \n",
      "4        513900000  2010  \n",
      "...            ...   ...  \n",
      "3382           NaN  2018  \n",
      "3383           NaN  2018  \n",
      "3384           NaN  2018  \n",
      "3385           NaN  2018  \n",
      "3386           NaN  2018  \n",
      "\n",
      "[3387 rows x 5 columns]\n",
      "                                                 review rating   fresh   \n",
      "id                                                                       \n",
      "3     A distinctly gallows take on contemporary fina...    3/5   fresh  \\\n",
      "3     It's an allegory in search of a meaning that n...    NaN  rotten   \n",
      "3     ... life lived in a bubble in financial dealin...    NaN   fresh   \n",
      "3     Continuing along a line introduced in last yea...    NaN   fresh   \n",
      "3                ... a perverse twist on neorealism...     NaN   fresh   \n",
      "...                                                 ...    ...     ...   \n",
      "2000  The real charm of this trifle is the deadpan c...    NaN   fresh   \n",
      "2000                                                NaN    1/5  rotten   \n",
      "2000                                                NaN    2/5  rotten   \n",
      "2000                                                NaN  2.5/5  rotten   \n",
      "2000                                                NaN    3/5   fresh   \n",
      "\n",
      "                 critic  top_critic         publisher                date  \n",
      "id                                                                         \n",
      "3            PJ Nabarro           0   Patrick Nabarro   November 10, 2018  \n",
      "3        Annalee Newitz           0           io9.com        May 23, 2018  \n",
      "3          Sean Axmaker           0  Stream on Demand     January 4, 2018  \n",
      "3         Daniel Kasman           0              MUBI   November 16, 2017  \n",
      "3                   NaN           0      Cinema Scope    October 12, 2017  \n",
      "...                 ...         ...               ...                 ...  \n",
      "2000      Laura Sinagra           1     Village Voice  September 24, 2002  \n",
      "2000  Michael Szymanski           0        Zap2it.com  September 21, 2005  \n",
      "2000       Emanuel Levy           0   EmanuelLevy.Com       July 17, 2005  \n",
      "2000   Christopher Null           0    Filmcritic.com   September 7, 2003  \n",
      "2000    Nicolas Lacroix           0      Showbizz.net   November 12, 2002  \n",
      "\n",
      "[54432 rows x 7 columns]\n"
     ]
    }
   ],
   "source": [
    "# Opening bom.movie_gross.csv file\n",
    "df_movie_gross = pd.read_csv(\"./data/bom.movie_gross.csv\")\n",
    "# Opening rt.reviews.tsv file\n",
    "df_movie_reviews = pd.read_table(\"./data/rt.reviews.tsv\", index_col = 0,encoding='ANSI')\n",
    "#Opening title.basics.csv\n",
    "df_movie_title_basics = pd.read_csv(\"./data./title.basics.csv\")\n",
    "#Opening  title.ratings.csv\n",
    "df_movie_ratings = pd.read_csv(\"./data./title.ratings.csv\")\n",
    "#Opening movie_info.tsv\n",
    "df_movie_info = pd.read_table(\"./data/rt.movie_info.tsv\", index_col = 0,encoding='ANSI')\n",
    "\n",
    "\n",
    "\n",
    "print(df_movie_gross)\n",
    "print(df_movie_reviews)\n",
    "\n",
    "\n",
    "\n",
    "\n"
   ]
  },
  {
   "cell_type": "code",
   "execution_count": null,
   "metadata": {},
   "outputs": [],
   "source": []
  }
 ],
 "metadata": {
  "kernelspec": {
   "display_name": "learn-env",
   "language": "python",
   "name": "python3"
  },
  "language_info": {
   "codemirror_mode": {
    "name": "ipython",
    "version": 3
   },
   "file_extension": ".py",
   "mimetype": "text/x-python",
   "name": "python",
   "nbconvert_exporter": "python",
   "pygments_lexer": "ipython3",
   "version": "3.10.11"
  },
  "orig_nbformat": 4
 },
 "nbformat": 4,
 "nbformat_minor": 2
}
